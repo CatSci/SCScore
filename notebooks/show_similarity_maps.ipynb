{
 "cells": [
  {
   "cell_type": "code",
   "execution_count": 1,
   "metadata": {
    "collapsed": true
   },
   "outputs": [],
   "source": [
    "# Test similarity map - might have to add folder to PYTHONPATH first"
   ]
  },
  {
   "cell_type": "code",
   "execution_count": 22,
   "metadata": {},
   "outputs": [
    {
     "name": "stdout",
     "output_type": "stream",
     "text": [
      "Restored variables from D:\\Python/CatSci/scscore/scscore\\models\\full_reaxys_model_1024bool\\model.ckpt-10654.as_numpy.pickle\n",
      "1.432 <--- CCCOCCC\n",
      "1.891 <--- CCCNC1=CC=CC=C1\n"
     ]
    }
   ],
   "source": [
    "model = SCScorer()\n",
    "model.restore()\n",
    "smis = ['CCCOCCC', 'CCCNc1ccccc1']\n",
    "for smi in smis:\n",
    "    (smi, sco) = model.get_score_from_smi(smi)\n",
    "    print('%.3f <--- %s' % (sco, smi))"
   ]
  },
  {
   "cell_type": "code",
   "execution_count": 1,
   "metadata": {},
   "outputs": [],
   "source": [
    "import sys\n",
    "sys.path.append('D:/Python/CatSci/scscore/scscore/')"
   ]
  },
  {
   "cell_type": "code",
   "execution_count": 20,
   "metadata": {},
   "outputs": [
    {
     "name": "stdout",
     "output_type": "stream",
     "text": [
      "Restored variables from D:\\Python/CatSci/scscore/scscore\\models\\full_reaxys_model_1024bool\\model.ckpt-10654.as_numpy.pickle\n"
     ]
    },
    {
     "data": {
      "text/plain": [
       "<scscore.standalone_model_numpy.SCScorer at 0x25b79940590>"
      ]
     },
     "execution_count": 20,
     "metadata": {},
     "output_type": "execute_result"
    }
   ],
   "source": [
    "from scscore.standalone_model_numpy import SCScorer\n",
    "scscorer = SCScorer()    \n",
    "scscorer.restore()"
   ]
  },
  {
   "cell_type": "code",
   "execution_count": 3,
   "metadata": {},
   "outputs": [],
   "source": [
    "from rdkit.Chem.Draw import SimilarityMaps\n",
    "import rdkit.Chem as Chem\n",
    "\n",
    "getfp = lambda m, a: SimilarityMaps.GetMorganFingerprint(m, atomId=a, nBits=1024, useChirality=True)\n",
    "getscore = lambda fp: scscorer.apply(fp)"
   ]
  },
  {
   "cell_type": "code",
   "execution_count": null,
   "metadata": {},
   "outputs": [],
   "source": [
    "mol = Chem.MolFromSmiles('COc1ccc(C(OC[C@H]2O[C@@H](n3cc(C)c(=O)[nH]c3=S)[C@@H](OC(C)=O)[C@@H]2O)(c2ccccc2)c2ccc(OC)cc2)cc1')\n",
    "fig, maxweight = SimilarityMaps.GetSimilarityMapForModel(mol, getfp, getscore)\n",
    "fig"
   ]
  },
  {
   "cell_type": "code",
   "execution_count": 25,
   "metadata": {},
   "outputs": [
    {
     "data": {
      "text/plain": [
       "('O=C(C(=O)C1=CC=CC=C1)C1=CC=CC=C1', 1.5702503515334962)"
      ]
     },
     "execution_count": 25,
     "metadata": {},
     "output_type": "execute_result"
    }
   ],
   "source": [
    "molecule='O=C(C(C1=CC=CC=C1)=O)C2=CC=CC=C2'\n",
    "scscorer.get_score_from_smi(smi=molecule)"
   ]
  },
  {
   "cell_type": "code",
   "execution_count": 13,
   "metadata": {},
   "outputs": [
    {
     "data": {
      "text/plain": [
       "array([False,  True, False, ..., False, False, False])"
      ]
     },
     "execution_count": 13,
     "metadata": {},
     "output_type": "execute_result"
    }
   ],
   "source": [
    "scscorer.smi_to_fp('C[C@@H]1C[C@@H]2CC[C@H]3C(=C)C[C@@H](O3)CC[C@]45C[C@@H]6[C@H](O4)[C@H]7[C@@H](O6)[C@@H](O5)[C@@H]8[C@@H](O7)CC[C@@H](O8)CC(=O)C[C@H]9[C@H](C[C@H](C1=C)O2)O[C@@H]([C@@H]9OC)C[C@@H](CN)O')"
   ]
  },
  {
   "cell_type": "code",
   "execution_count": 29,
   "metadata": {},
   "outputs": [],
   "source": [
    "Chem.MolFromSmiles(molecule)"
   ]
  },
  {
   "cell_type": "code",
   "execution_count": 33,
   "metadata": {},
   "outputs": [],
   "source": [
    "from rdkit.Chem import Draw"
   ]
  },
  {
   "cell_type": "code",
   "execution_count": 36,
   "metadata": {},
   "outputs": [
    {
     "name": "stdout",
     "output_type": "stream",
     "text": [
      "<PIL.PngImagePlugin.PngImageFile image mode=RGB size=300x300 at 0x25B79926810>\n"
     ]
    }
   ],
   "source": [
    "m = Chem.MolFromSmiles(molecule)\n",
    "img = Draw.MolToImage(m)\n",
    "print(img)"
   ]
  },
  {
   "cell_type": "code",
   "execution_count": null,
   "metadata": {},
   "outputs": [],
   "source": []
  }
 ],
 "metadata": {
  "kernelspec": {
   "display_name": "Python 3",
   "language": "python",
   "name": "python3"
  },
  "language_info": {
   "codemirror_mode": {
    "name": "ipython",
    "version": 3
   },
   "file_extension": ".py",
   "mimetype": "text/x-python",
   "name": "python",
   "nbconvert_exporter": "python",
   "pygments_lexer": "ipython3",
   "version": "3.11.7"
  }
 },
 "nbformat": 4,
 "nbformat_minor": 2
}
