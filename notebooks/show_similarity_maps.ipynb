{
 "cells": [
  {
   "cell_type": "code",
   "execution_count": 1,
   "metadata": {
    "collapsed": true
   },
   "outputs": [],
   "source": [
    "# Test similarity map - might have to add folder to PYTHONPATH first"
   ]
  },
  {
   "cell_type": "code",
   "execution_count": 1,
   "metadata": {},
   "outputs": [],
   "source": [
    "import sys\n",
    "sys.path.append('D:/Python/CatSci/scscore/scscore/')"
   ]
  },
  {
   "cell_type": "code",
   "execution_count": 9,
   "metadata": {},
   "outputs": [
    {
     "ename": "UnicodeDecodeError",
     "evalue": "'ascii' codec can't decode byte 0xef in position 2: ordinal not in range(128)",
     "output_type": "error",
     "traceback": [
      "\u001b[1;31m---------------------------------------------------------------------------\u001b[0m",
      "\u001b[1;31mUnicodeDecodeError\u001b[0m                        Traceback (most recent call last)",
      "\u001b[1;32md:\\Python\\CatSci\\scscore\\scscore\\notebooks\\show_similarity_maps.ipynb Cell 3\u001b[0m line \u001b[0;36m3\n\u001b[0;32m      <a href='vscode-notebook-cell:/d%3A/Python/CatSci/scscore/scscore/notebooks/show_similarity_maps.ipynb#W2sZmlsZQ%3D%3D?line=0'>1</a>\u001b[0m \u001b[39mfrom\u001b[39;00m \u001b[39mscscore\u001b[39;00m\u001b[39m.\u001b[39;00m\u001b[39mstandalone_model_numpy\u001b[39;00m \u001b[39mimport\u001b[39;00m SCScorer\n\u001b[0;32m      <a href='vscode-notebook-cell:/d%3A/Python/CatSci/scscore/scscore/notebooks/show_similarity_maps.ipynb#W2sZmlsZQ%3D%3D?line=1'>2</a>\u001b[0m scscorer \u001b[39m=\u001b[39m SCScorer()    \n\u001b[1;32m----> <a href='vscode-notebook-cell:/d%3A/Python/CatSci/scscore/scscore/notebooks/show_similarity_maps.ipynb#W2sZmlsZQ%3D%3D?line=2'>3</a>\u001b[0m scscorer\u001b[39m.\u001b[39;49mrestore()\n",
      "File \u001b[1;32mD:\\Python/CatSci/scscore/scscore\\scscore\\standalone_model_numpy.py:36\u001b[0m, in \u001b[0;36mSCScorer.restore\u001b[1;34m(self, weight_path, FP_rad, FP_len)\u001b[0m\n\u001b[0;32m     34\u001b[0m \u001b[39mdef\u001b[39;00m \u001b[39mrestore\u001b[39m(\u001b[39mself\u001b[39m, weight_path\u001b[39m=\u001b[39mos\u001b[39m.\u001b[39mpath\u001b[39m.\u001b[39mjoin(project_root, \u001b[39m'\u001b[39m\u001b[39mmodels\u001b[39m\u001b[39m'\u001b[39m, \u001b[39m'\u001b[39m\u001b[39mfull_reaxys_model_1024bool\u001b[39m\u001b[39m'\u001b[39m, \u001b[39m'\u001b[39m\u001b[39mmodel.ckpt-10654.as_numpy.pickle\u001b[39m\u001b[39m'\u001b[39m), FP_rad\u001b[39m=\u001b[39mFP_rad, FP_len\u001b[39m=\u001b[39mFP_len):\n\u001b[0;32m     35\u001b[0m     \u001b[39mself\u001b[39m\u001b[39m.\u001b[39mFP_len \u001b[39m=\u001b[39m FP_len; \u001b[39mself\u001b[39m\u001b[39m.\u001b[39mFP_rad \u001b[39m=\u001b[39m FP_rad\n\u001b[1;32m---> 36\u001b[0m     \u001b[39mself\u001b[39;49m\u001b[39m.\u001b[39;49m_load_vars(weight_path)\n\u001b[0;32m     37\u001b[0m     \u001b[39mprint\u001b[39m(\u001b[39m'\u001b[39m\u001b[39mRestored variables from \u001b[39m\u001b[39m{}\u001b[39;00m\u001b[39m'\u001b[39m\u001b[39m.\u001b[39mformat(weight_path))\n\u001b[0;32m     39\u001b[0m     \u001b[39mif\u001b[39;00m \u001b[39m'\u001b[39m\u001b[39muint8\u001b[39m\u001b[39m'\u001b[39m \u001b[39min\u001b[39;00m weight_path \u001b[39mor\u001b[39;00m \u001b[39m'\u001b[39m\u001b[39mcounts\u001b[39m\u001b[39m'\u001b[39m \u001b[39min\u001b[39;00m weight_path:\n",
      "File \u001b[1;32mD:\\Python/CatSci/scscore/scscore\\scscore\\standalone_model_numpy.py:100\u001b[0m, in \u001b[0;36mSCScorer._load_vars\u001b[1;34m(self, weight_path)\u001b[0m\n\u001b[0;32m     98\u001b[0m     \u001b[39mimport\u001b[39;00m \u001b[39mpickle\u001b[39;00m\n\u001b[0;32m     99\u001b[0m     \u001b[39mwith\u001b[39;00m \u001b[39mopen\u001b[39m(weight_path, \u001b[39m'\u001b[39m\u001b[39mrb\u001b[39m\u001b[39m'\u001b[39m) \u001b[39mas\u001b[39;00m fid:\n\u001b[1;32m--> 100\u001b[0m         \u001b[39mself\u001b[39m\u001b[39m.\u001b[39mvars \u001b[39m=\u001b[39m pickle\u001b[39m.\u001b[39;49mload(fid)\n\u001b[0;32m    101\u001b[0m         \u001b[39mself\u001b[39m\u001b[39m.\u001b[39mvars \u001b[39m=\u001b[39m [x\u001b[39m.\u001b[39mtolist() \u001b[39mfor\u001b[39;00m x \u001b[39min\u001b[39;00m \u001b[39mself\u001b[39m\u001b[39m.\u001b[39mvars]\n\u001b[0;32m    102\u001b[0m \u001b[39melif\u001b[39;00m weight_path\u001b[39m.\u001b[39mendswith(\u001b[39m'\u001b[39m\u001b[39mjson.gz\u001b[39m\u001b[39m'\u001b[39m):\n",
      "\u001b[1;31mUnicodeDecodeError\u001b[0m: 'ascii' codec can't decode byte 0xef in position 2: ordinal not in range(128)"
     ]
    }
   ],
   "source": [
    "from scscore.standalone_model_numpy import SCScorer\n",
    "scscorer = SCScorer()    \n",
    "scscorer.restore()"
   ]
  },
  {
   "cell_type": "code",
   "execution_count": 6,
   "metadata": {},
   "outputs": [],
   "source": [
    "from rdkit.Chem.Draw import SimilarityMaps\n",
    "import rdkit.Chem as Chem\n",
    "\n",
    "getfp = lambda m, a: SimilarityMaps.GetMorganFingerprint(m, atomId=a, nBits=1024, useChirality=True)\n",
    "getscore = lambda fp: scscorer.apply(fp)"
   ]
  },
  {
   "cell_type": "code",
   "execution_count": 7,
   "metadata": {},
   "outputs": [
    {
     "ename": "ValueError",
     "evalue": "Must restore model weights!",
     "output_type": "error",
     "traceback": [
      "\u001b[1;31m---------------------------------------------------------------------------\u001b[0m",
      "\u001b[1;31mValueError\u001b[0m                                Traceback (most recent call last)",
      "\u001b[1;32md:\\Python\\CatSci\\scscore\\scscore\\notebooks\\show_similarity_maps.ipynb Cell 5\u001b[0m line \u001b[0;36m2\n\u001b[0;32m      <a href='vscode-notebook-cell:/d%3A/Python/CatSci/scscore/scscore/notebooks/show_similarity_maps.ipynb#W4sZmlsZQ%3D%3D?line=0'>1</a>\u001b[0m mol \u001b[39m=\u001b[39m Chem\u001b[39m.\u001b[39mMolFromSmiles(\u001b[39m'\u001b[39m\u001b[39mCOc1ccc(C(OC[C@H]2O[C@@H](n3cc(C)c(=O)[nH]c3=S)[C@@H](OC(C)=O)[C@@H]2O)(c2ccccc2)c2ccc(OC)cc2)cc1\u001b[39m\u001b[39m'\u001b[39m)\n\u001b[1;32m----> <a href='vscode-notebook-cell:/d%3A/Python/CatSci/scscore/scscore/notebooks/show_similarity_maps.ipynb#W4sZmlsZQ%3D%3D?line=1'>2</a>\u001b[0m fig, maxweight \u001b[39m=\u001b[39m SimilarityMaps\u001b[39m.\u001b[39;49mGetSimilarityMapForModel(mol, getfp, getscore)\n\u001b[0;32m      <a href='vscode-notebook-cell:/d%3A/Python/CatSci/scscore/scscore/notebooks/show_similarity_maps.ipynb#W4sZmlsZQ%3D%3D?line=2'>3</a>\u001b[0m fig\n",
      "File \u001b[1;32m~\\AppData\\Local\\Packages\\PythonSoftwareFoundation.Python.3.11_qbz5n2kfra8p0\\LocalCache\\local-packages\\Python311\\site-packages\\rdkit\\Chem\\Draw\\SimilarityMaps.py:273\u001b[0m, in \u001b[0;36mGetSimilarityMapForModel\u001b[1;34m(probeMol, fpFunction, predictionFunction, **kwargs)\u001b[0m\n\u001b[0;32m    261\u001b[0m \u001b[39mdef\u001b[39;00m \u001b[39mGetSimilarityMapForModel\u001b[39m(probeMol, fpFunction, predictionFunction, \u001b[39m*\u001b[39m\u001b[39m*\u001b[39mkwargs):\n\u001b[0;32m    262\u001b[0m \u001b[39m  \u001b[39m\u001b[39m\"\"\"\u001b[39;00m\n\u001b[0;32m    263\u001b[0m \u001b[39m    Generates the similarity map for a given ML model and probe molecule,\u001b[39;00m\n\u001b[0;32m    264\u001b[0m \u001b[39m    and fingerprint function.\u001b[39;00m\n\u001b[1;32m   (...)\u001b[0m\n\u001b[0;32m    270\u001b[0m \u001b[39m      kwargs -- additional arguments for drawing\u001b[39;00m\n\u001b[0;32m    271\u001b[0m \u001b[39m    \"\"\"\u001b[39;00m\n\u001b[1;32m--> 273\u001b[0m   weights \u001b[39m=\u001b[39m GetAtomicWeightsForModel(probeMol, fpFunction, predictionFunction)\n\u001b[0;32m    274\u001b[0m   weights, maxWeight \u001b[39m=\u001b[39m GetStandardizedWeights(weights)\n\u001b[0;32m    275\u001b[0m   fig \u001b[39m=\u001b[39m GetSimilarityMapFromWeights(probeMol, weights, \u001b[39m*\u001b[39m\u001b[39m*\u001b[39mkwargs)\n",
      "File \u001b[1;32m~\\AppData\\Local\\Packages\\PythonSoftwareFoundation.Python.3.11_qbz5n2kfra8p0\\LocalCache\\local-packages\\Python311\\site-packages\\rdkit\\Chem\\Draw\\SimilarityMaps.py:101\u001b[0m, in \u001b[0;36mGetAtomicWeightsForModel\u001b[1;34m(probeMol, fpFunction, predictionFunction)\u001b[0m\n\u001b[0;32m     90\u001b[0m \u001b[39m\u001b[39m\u001b[39m\"\"\"\u001b[39;00m\n\u001b[0;32m     91\u001b[0m \u001b[39m  Calculates the atomic weights for the probe molecule based on\u001b[39;00m\n\u001b[0;32m     92\u001b[0m \u001b[39m  a fingerprint function and the prediction function of a ML model.\u001b[39;00m\n\u001b[1;32m   (...)\u001b[0m\n\u001b[0;32m     97\u001b[0m \u001b[39m    predictionFunction -- the prediction function of the ML model\u001b[39;00m\n\u001b[0;32m     98\u001b[0m \u001b[39m  \"\"\"\u001b[39;00m\n\u001b[0;32m    100\u001b[0m _DeleteFpInfoAttr(probeMol)\n\u001b[1;32m--> 101\u001b[0m baseProba \u001b[39m=\u001b[39m predictionFunction(fpFunction(probeMol, \u001b[39m-\u001b[39;49m\u001b[39m1\u001b[39;49m))\n\u001b[0;32m    103\u001b[0m \u001b[39m# loop over atoms\u001b[39;00m\n\u001b[0;32m    104\u001b[0m weights \u001b[39m=\u001b[39m [\n\u001b[0;32m    105\u001b[0m   baseProba \u001b[39m-\u001b[39m predictionFunction(fpFunction(probeMol, atomId))\n\u001b[0;32m    106\u001b[0m   \u001b[39mfor\u001b[39;00m atomId \u001b[39min\u001b[39;00m \u001b[39mrange\u001b[39m(probeMol\u001b[39m.\u001b[39mGetNumAtoms())\n\u001b[0;32m    107\u001b[0m ]\n",
      "\u001b[1;32md:\\Python\\CatSci\\scscore\\scscore\\notebooks\\show_similarity_maps.ipynb Cell 5\u001b[0m line \u001b[0;36m5\n\u001b[0;32m      <a href='vscode-notebook-cell:/d%3A/Python/CatSci/scscore/scscore/notebooks/show_similarity_maps.ipynb#W4sZmlsZQ%3D%3D?line=1'>2</a>\u001b[0m \u001b[39mimport\u001b[39;00m \u001b[39mrdkit\u001b[39;00m\u001b[39m.\u001b[39;00m\u001b[39mChem\u001b[39;00m \u001b[39mas\u001b[39;00m \u001b[39mChem\u001b[39;00m\n\u001b[0;32m      <a href='vscode-notebook-cell:/d%3A/Python/CatSci/scscore/scscore/notebooks/show_similarity_maps.ipynb#W4sZmlsZQ%3D%3D?line=3'>4</a>\u001b[0m getfp \u001b[39m=\u001b[39m \u001b[39mlambda\u001b[39;00m m, a: SimilarityMaps\u001b[39m.\u001b[39mGetMorganFingerprint(m, atomId\u001b[39m=\u001b[39ma, nBits\u001b[39m=\u001b[39m\u001b[39m1024\u001b[39m, useChirality\u001b[39m=\u001b[39m\u001b[39mTrue\u001b[39;00m)\n\u001b[1;32m----> <a href='vscode-notebook-cell:/d%3A/Python/CatSci/scscore/scscore/notebooks/show_similarity_maps.ipynb#W4sZmlsZQ%3D%3D?line=4'>5</a>\u001b[0m getscore \u001b[39m=\u001b[39m \u001b[39mlambda\u001b[39;00m fp: scscorer\u001b[39m.\u001b[39;49mapply(fp)\n",
      "File \u001b[1;32mD:\\Python/CatSci/scscore/scscore\\scscore\\standalone_model_numpy.py:66\u001b[0m, in \u001b[0;36mSCScorer.apply\u001b[1;34m(self, x)\u001b[0m\n\u001b[0;32m     64\u001b[0m \u001b[39mdef\u001b[39;00m \u001b[39mapply\u001b[39m(\u001b[39mself\u001b[39m, x):\n\u001b[0;32m     65\u001b[0m     \u001b[39mif\u001b[39;00m \u001b[39mnot\u001b[39;00m \u001b[39mself\u001b[39m\u001b[39m.\u001b[39m_restored:\n\u001b[1;32m---> 66\u001b[0m         \u001b[39mraise\u001b[39;00m \u001b[39mValueError\u001b[39;00m(\u001b[39m'\u001b[39m\u001b[39mMust restore model weights!\u001b[39m\u001b[39m'\u001b[39m)\n\u001b[0;32m     67\u001b[0m     \u001b[39m# Each pair of vars is a weight and bias term\u001b[39;00m\n\u001b[0;32m     68\u001b[0m     \u001b[39mfor\u001b[39;00m i \u001b[39min\u001b[39;00m \u001b[39mrange\u001b[39m(\u001b[39m0\u001b[39m, \u001b[39mlen\u001b[39m(\u001b[39mself\u001b[39m\u001b[39m.\u001b[39mvars), \u001b[39m2\u001b[39m):\n",
      "\u001b[1;31mValueError\u001b[0m: Must restore model weights!"
     ]
    }
   ],
   "source": [
    "mol = Chem.MolFromSmiles('COc1ccc(C(OC[C@H]2O[C@@H](n3cc(C)c(=O)[nH]c3=S)[C@@H](OC(C)=O)[C@@H]2O)(c2ccccc2)c2ccc(OC)cc2)cc1')\n",
    "fig, maxweight = SimilarityMaps.GetSimilarityMapForModel(mol, getfp, getscore)\n",
    "fig"
   ]
  },
  {
   "cell_type": "code",
   "execution_count": null,
   "metadata": {},
   "outputs": [],
   "source": []
  },
  {
   "cell_type": "code",
   "execution_count": null,
   "metadata": {
    "collapsed": true
   },
   "outputs": [],
   "source": []
  }
 ],
 "metadata": {
  "kernelspec": {
   "display_name": "Python 3",
   "language": "python",
   "name": "python3"
  },
  "language_info": {
   "codemirror_mode": {
    "name": "ipython",
    "version": 3
   },
   "file_extension": ".py",
   "mimetype": "text/x-python",
   "name": "python",
   "nbconvert_exporter": "python",
   "pygments_lexer": "ipython3",
   "version": "3.11.7"
  }
 },
 "nbformat": 4,
 "nbformat_minor": 2
}
